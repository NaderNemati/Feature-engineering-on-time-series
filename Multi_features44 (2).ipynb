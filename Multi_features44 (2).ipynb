{
  "nbformat": 4,
  "nbformat_minor": 0,
  "metadata": {
    "accelerator": "GPU",
    "colab": {
      "name": "Multi_features44.ipynb",
      "provenance": [],
      "collapsed_sections": []
    },
    "kernelspec": {
      "display_name": "Python 3",
      "name": "python3"
    },
    "language_info": {
      "name": "python"
    }
  },
  "cells": [
    {
      "cell_type": "code",
      "metadata": {
        "colab": {
          "base_uri": "https://localhost:8080/"
        },
        "id": "FOubc5RsFruZ",
        "outputId": "0994866a-41f4-48dc-810e-a173df590ddf"
      },
      "source": [
        "from google.colab import drive\n",
        "drive.mount('/content/drive')"
      ],
      "execution_count": null,
      "outputs": [
        {
          "name": "stdout",
          "output_type": "stream",
          "text": [
            "Mounted at /content/drive\n"
          ]
        }
      ]
    },
    {
      "cell_type": "code",
      "metadata": {
        "id": "R33LfHq58JRl"
      },
      "source": [
        "import numpy as np\n",
        "import time\n",
        "import random\n",
        "import statistics as sts\n",
        "from scipy.stats.mstats import gmean \n",
        "from scipy import stats\n",
        "\n",
        "import tensorflow as tf\n",
        "from tensorflow.keras import backend as Bkd\n",
        "from tensorflow.keras.layers import Lambda\n",
        "\n",
        "from tensorflow.keras.models import Sequential\n",
        "from tensorflow.keras.layers import Dense, LSTM, Embedding, Dropout, Conv1D,Flatten, MaxPooling1D\n",
        "from tensorflow.keras.optimizers import Adam, Nadam\n",
        "from tensorflow.keras import backend as K\n",
        "from sklearn.decomposition import PCA\n",
        "import math\n",
        "import matplotlib.pyplot as plt\n",
        "import pandas as pd\n",
        "\n",
        "from tensorflow.compat.v1.random import set_random_seed\n",
        "\n",
        "import math\n",
        "\n",
        "from sklearn.preprocessing import MinMaxScaler\n",
        "\n",
        "from keras.layers import TimeDistributed\n",
        "from keras.backend import sigmoid\n",
        "\n",
        "from keras.models import Sequential\n",
        "\n",
        "plt.style.use('fivethirtyeight')"
      ],
      "execution_count": null,
      "outputs": []
    },
    {
      "cell_type": "code",
      "metadata": {
        "id": "N8RK-1bvEPlZ"
      },
      "source": [
        "WIND = 100\n",
        "BATCH = 20\n",
        "EPOCH = 50\n",
        "UNIT = 150\n",
        "activations=['swish']# 'relu' ,'tanh']"
      ],
      "execution_count": null,
      "outputs": []
    },
    {
      "cell_type": "code",
      "metadata": {
        "colab": {
          "base_uri": "https://localhost:8080/"
        },
        "id": "SOHMaf3ZETzI",
        "outputId": "77510eb8-0d29-4f90-e8c0-452e9355f908"
      },
      "source": [
        "print('-------------------------------------------------')\n",
        "print('Window size = ',WIND)\n",
        "print('Batch  size = ',BATCH)\n",
        "print('Epochs      = ',EPOCH)\n",
        "print('LSTM Units  = ',UNIT)\n",
        "print('-------------------------------------------------')"
      ],
      "execution_count": null,
      "outputs": [
        {
          "name": "stdout",
          "output_type": "stream",
          "text": [
            "-------------------------------------------------\n",
            "Window size =  100\n",
            "Batch  size =  20\n",
            "Epochs      =  50\n",
            "LSTM Units  =  150\n",
            "-------------------------------------------------\n"
          ]
        }
      ]
    },
    {
      "cell_type": "code",
      "metadata": {
        "id": "OJWjYxNTHI99"
      },
      "source": [
        "#df = pd.read_csv('/content/drive/MyDrive/DataSets_2015to2020/NDF_Drop_Nan.csv')\n",
        "#df = pd.read_csv('/content/drive/MyDrive/DataSets_2015to2020/NDF.csv')\n",
        "df = pd.read_csv('/content/drive/MyDrive/XAUUSD_M30.csv')\n",
        "#df = pd.read_csv('drive/My Drive/Colab Notebooks/XAUUSD_M30.csv')\n"
      ],
      "execution_count": null,
      "outputs": []
    },
    {
      "cell_type": "code",
      "metadata": {
        "colab": {
          "base_uri": "https://localhost:8080/",
          "height": 414
        },
        "id": "KaULa9Q44b-Q",
        "outputId": "094a9d7e-395b-4b3e-ff4a-95900061cc1d"
      },
      "source": [
        "df"
      ],
      "execution_count": null,
      "outputs": [
        {
          "data": {
            "text/html": [
              "<div>\n",
              "<style scoped>\n",
              "    .dataframe tbody tr th:only-of-type {\n",
              "        vertical-align: middle;\n",
              "    }\n",
              "\n",
              "    .dataframe tbody tr th {\n",
              "        vertical-align: top;\n",
              "    }\n",
              "\n",
              "    .dataframe thead th {\n",
              "        text-align: right;\n",
              "    }\n",
              "</style>\n",
              "<table border=\"1\" class=\"dataframe\">\n",
              "  <thead>\n",
              "    <tr style=\"text-align: right;\">\n",
              "      <th></th>\n",
              "      <th>1614.15</th>\n",
              "      <th>1614.16</th>\n",
              "      <th>1613.35</th>\n",
              "      <th>1613.35.1</th>\n",
              "    </tr>\n",
              "  </thead>\n",
              "  <tbody>\n",
              "    <tr>\n",
              "      <th>0</th>\n",
              "      <td>1613.37</td>\n",
              "      <td>1614.51</td>\n",
              "      <td>1613.33</td>\n",
              "      <td>1613.95</td>\n",
              "    </tr>\n",
              "    <tr>\n",
              "      <th>1</th>\n",
              "      <td>1613.91</td>\n",
              "      <td>1615.06</td>\n",
              "      <td>1612.70</td>\n",
              "      <td>1613.05</td>\n",
              "    </tr>\n",
              "    <tr>\n",
              "      <th>2</th>\n",
              "      <td>1613.02</td>\n",
              "      <td>1613.41</td>\n",
              "      <td>1611.74</td>\n",
              "      <td>1612.66</td>\n",
              "    </tr>\n",
              "    <tr>\n",
              "      <th>3</th>\n",
              "      <td>1612.76</td>\n",
              "      <td>1614.20</td>\n",
              "      <td>1612.53</td>\n",
              "      <td>1613.22</td>\n",
              "    </tr>\n",
              "    <tr>\n",
              "      <th>4</th>\n",
              "      <td>1613.19</td>\n",
              "      <td>1614.30</td>\n",
              "      <td>1612.98</td>\n",
              "      <td>1613.73</td>\n",
              "    </tr>\n",
              "    <tr>\n",
              "      <th>...</th>\n",
              "      <td>...</td>\n",
              "      <td>...</td>\n",
              "      <td>...</td>\n",
              "      <td>...</td>\n",
              "    </tr>\n",
              "    <tr>\n",
              "      <th>99963</th>\n",
              "      <td>1835.03</td>\n",
              "      <td>1837.88</td>\n",
              "      <td>1834.67</td>\n",
              "      <td>1837.65</td>\n",
              "    </tr>\n",
              "    <tr>\n",
              "      <th>99964</th>\n",
              "      <td>1837.68</td>\n",
              "      <td>1838.75</td>\n",
              "      <td>1836.66</td>\n",
              "      <td>1836.81</td>\n",
              "    </tr>\n",
              "    <tr>\n",
              "      <th>99965</th>\n",
              "      <td>1836.75</td>\n",
              "      <td>1837.29</td>\n",
              "      <td>1835.58</td>\n",
              "      <td>1835.94</td>\n",
              "    </tr>\n",
              "    <tr>\n",
              "      <th>99966</th>\n",
              "      <td>1835.89</td>\n",
              "      <td>1836.19</td>\n",
              "      <td>1834.59</td>\n",
              "      <td>1835.87</td>\n",
              "    </tr>\n",
              "    <tr>\n",
              "      <th>99967</th>\n",
              "      <td>1835.83</td>\n",
              "      <td>1837.49</td>\n",
              "      <td>1835.08</td>\n",
              "      <td>1836.76</td>\n",
              "    </tr>\n",
              "  </tbody>\n",
              "</table>\n",
              "<p>99968 rows × 4 columns</p>\n",
              "</div>"
            ],
            "text/plain": [
              "       1614.15  1614.16  1613.35  1613.35.1\n",
              "0      1613.37  1614.51  1613.33    1613.95\n",
              "1      1613.91  1615.06  1612.70    1613.05\n",
              "2      1613.02  1613.41  1611.74    1612.66\n",
              "3      1612.76  1614.20  1612.53    1613.22\n",
              "4      1613.19  1614.30  1612.98    1613.73\n",
              "...        ...      ...      ...        ...\n",
              "99963  1835.03  1837.88  1834.67    1837.65\n",
              "99964  1837.68  1838.75  1836.66    1836.81\n",
              "99965  1836.75  1837.29  1835.58    1835.94\n",
              "99966  1835.89  1836.19  1834.59    1835.87\n",
              "99967  1835.83  1837.49  1835.08    1836.76\n",
              "\n",
              "[99968 rows x 4 columns]"
            ]
          },
          "execution_count": 28,
          "metadata": {},
          "output_type": "execute_result"
        }
      ]
    },
    {
      "cell_type": "code",
      "metadata": {
        "colab": {
          "base_uri": "https://localhost:8080/"
        },
        "id": "srMsswy9aiPf",
        "outputId": "5166d533-1c03-4352-dba8-4a23f669de2b"
      },
      "source": [
        "len(df)"
      ],
      "execution_count": null,
      "outputs": [
        {
          "data": {
            "text/plain": [
              "99968"
            ]
          },
          "execution_count": 29,
          "metadata": {},
          "output_type": "execute_result"
        }
      ]
    },
    {
      "cell_type": "markdown",
      "metadata": {
        "id": "mAgOUgbYVfm2"
      },
      "source": [
        "# Feature Engineering"
      ]
    },
    {
      "cell_type": "code",
      "metadata": {
        "id": "1jQETrfZ64Dy"
      },
      "source": [
        "df['oh'] = df['1614.15'] - df['1614.16']\n",
        "df['ol'] = df['1614.15'] - df['1613.35']\n",
        "df['hl'] = df['1614.16'] - df['1613.35']"
      ],
      "execution_count": null,
      "outputs": []
    },
    {
      "cell_type": "code",
      "metadata": {
        "id": "odv7SZNFaxqN"
      },
      "source": [
        "df['co'] = df['1613.35.1'] - df['1614.15']\n",
        "df['hc'] = df['1614.16'] - df['1613.35.1']\n",
        "df['cl'] = df['1613.35.1'] - df['1613.35']"
      ],
      "execution_count": null,
      "outputs": []
    },
    {
      "cell_type": "code",
      "metadata": {
        "id": "ujX3PzaFXnJ5"
      },
      "source": [
        "#df['03m-SMA-Open']=df['1614.15'].rolling(window=3).mean()\n",
        "df['05m-SMA-Open']=df['1614.15'].rolling(window=5).mean()\n",
        "#df['07m-SMA-Open']=df['1614.15'].rolling(window=7).mean()\n",
        "\n",
        "#df['03m-SMA-High']=df['1614.16'].rolling(window=3).mean()\n",
        "#df['05m-SMA-High']=df['1614.16'].rolling(window=5).mean()\n",
        "#df['07m-SMA-High']=df['1614.16'].rolling(window=7).mean()\n",
        "\n",
        "#df['03m-SMA-Low']=df['1613.35'].rolling(window=3).mean()\n",
        "#df['05m-SMA-Low']=df['1613.35'].rolling(window=5).mean()\n",
        "#df['07m-SMA-Low']=df['1613.35'].rolling(window=7).mean()\n",
        "\n",
        "#df['03m-SMA-Close']=df['1613.35.1'].rolling(window=3).mean()\n",
        "#df['05m-SMA-Close']=df['1613.35.1'].rolling(window=5).mean()\n",
        "#df['07m-SMA-Close']=df['1613.35.1'].rolling(window=7).mean()"
      ],
      "execution_count": null,
      "outputs": []
    },
    {
      "cell_type": "code",
      "metadata": {
        "id": "MGE0Eg7EHd2K"
      },
      "source": [
        "\n",
        "def wma(df, column='close', n=20, add_col=False):\n",
        "\n",
        "    weights = np.arange(1, n + 1)\n",
        "    wmas = df[column].rolling(n).apply(lambda x: np.dot(x, weights) /\n",
        "                                       weights.sum(), raw=True).to_list()\n",
        "\n",
        "    if add_col == True:\n",
        "        df[f'{column}_WMA_{n}'] = wmas\n",
        "        return df\n",
        "    else:\n",
        "        return wmas"
      ],
      "execution_count": null,
      "outputs": []
    },
    {
      "cell_type": "code",
      "metadata": {
        "id": "-jhsvisAGmxZ"
      },
      "source": [
        "#df['03m-WMA-Open'] = wma(df, column='1614.15',n=3,add_col=False)\n",
        "#df['05m-WMA-Open'] = wma(df, column='1614.15',n=5,add_col=False)\n",
        "#df['07m-WMA-Open'] = wma(df, column='1614.15',n=7,add_col=False)\n",
        "\n",
        "#df['03m-WMA-High'] = wma(df, column='1614.16',n=3,add_col=False)\n",
        "#df['05m-WMA-High'] = wma(df, column='1614.16',n=5,add_col=False)\n",
        "df['07m-WMA-High'] = wma(df, column='1614.16',n=7,add_col=False)\n",
        "\n",
        "#df['03m-WMA-Low'] = wma(df, column='1613.35',n=3,add_col=False)\n",
        "#df['05m-WMA-Low'] = wma(df, column='1613.35',n=5,add_col=False)\n",
        "#df['07m-WMA-Low'] = wma(df, column='1613.35',n=7,add_col=False)\n",
        "\n",
        "#df['03m-WMA-Close'] = wma(df, column='1613.35.1',n=3,add_col=False)\n",
        "#df['05m-WMA-Close'] = wma(df, column='1613.35.1',n=5,add_col=False)\n",
        "#df['07m-WMA-Close'] = wma(df, column='1613.35.1',n=7,add_col=False)"
      ],
      "execution_count": null,
      "outputs": []
    },
    {
      "cell_type": "code",
      "metadata": {
        "id": "NVG2_zU6h_Er"
      },
      "source": [
        "#Open_26_ewma = df['1614.15'].ewm(span=26, min_periods=0, adjust=True, ignore_na=True).mean()\n",
        "#Open_12_ewma = df['1614.15'].ewm(span=12, min_periods=0, adjust=True, ignore_na=True).mean()\n",
        "#df['26ema'] = Open_26_ewma\n",
        "#df['12ema'] = Open_12_ewma\n",
        "#df['MACD_Open'] = (df['12ema'] - df['26ema'])\n",
        "\n",
        "#High_26_ewma = df['1614.16'].ewm(span=26, min_periods=0, adjust=True, ignore_na=True).mean()\n",
        "#High_12_ewma = df['1614.16'].ewm(span=12, min_periods=0, adjust=True, ignore_na=True).mean()\n",
        "#df['26ema'] = High_26_ewma\n",
        "#df['12ema'] = High_12_ewma\n",
        "#df['MACD_High'] = (df['12ema'] - df['26ema'])\n",
        "\n",
        "#Low_26_ewma = df['1613.35'].ewm(span=26, min_periods=0, adjust=True, ignore_na=True).mean()\n",
        "#Low_12_ewma = df['1613.35'].ewm(span=12, min_periods=0, adjust=True, ignore_na=True).mean()\n",
        "#df['26ema'] = Low_26_ewma\n",
        "#df['12ema'] = Low_12_ewma\n",
        "#df['MACD_Low'] = (df['12ema'] - df['26ema'])\n",
        "\n",
        "#close_26_ewma = df['1613.35.1'].ewm(span=26, min_periods=0, adjust=True, ignore_na=True).mean()\n",
        "#close_12_ewma = df['1613.35.1'].ewm(span=12, min_periods=0, adjust=True, ignore_na=True).mean()\n",
        "#df['26ema'] = close_26_ewma\n",
        "#df['12ema'] = close_12_ewma\n",
        "#df['MACD_Close'] = (df['12ema'] - df['26ema'])"
      ],
      "execution_count": null,
      "outputs": []
    },
    {
      "cell_type": "code",
      "metadata": {
        "id": "CW-x4gEEboWI"
      },
      "source": [
        "def computeRSI (data, time_window):\n",
        "    diff = data.diff(1).dropna()        # diff in one field(one day)\n",
        "\n",
        "    #this preservers dimensions off diff values\n",
        "    up_chg = 0 * diff\n",
        "    down_chg = 0 * diff\n",
        "    \n",
        "    # up change is equal to the positive difference, otherwise equal to zero\n",
        "    up_chg[diff > 0] = diff[ diff>0 ]\n",
        "    \n",
        "    # down change is equal to negative deifference, otherwise equal to zero\n",
        "    down_chg[diff < 0] = diff[ diff < 0 ]\n",
        "    \n",
        "    up_chg_avg   = up_chg.ewm(com=time_window-1 , min_periods=time_window).mean()\n",
        "    down_chg_avg = down_chg.ewm(com=time_window-1 , min_periods=time_window).mean()\n",
        "    \n",
        "    rs = abs(up_chg_avg/down_chg_avg)\n",
        "    rsi = 100 - 100/(1+rs)\n",
        "    return rsi"
      ],
      "execution_count": null,
      "outputs": []
    },
    {
      "cell_type": "code",
      "metadata": {
        "id": "J-152_zcbumq"
      },
      "source": [
        "#df['RSI_Open'] = computeRSI(df['1614.15'], 3)\n",
        "df['RSI_Open'] = computeRSI(df['1614.15'], 5)\n",
        "#df['RSI_Open'] = computeRSI(df['1614.15'], 7)\n",
        "\n",
        "#df['RSI_High'] = computeRSI(df['1614.16'], 3)\n",
        "#df['RSI_High'] = computeRSI(df['1614.16'], 5)\n",
        "#df['RSI_High'] = computeRSI(df['1614.16'], 7)\n",
        "\n",
        "#df['RSI_Low'] = computeRSI(df['1613.35'], 3)\n",
        "#df['RSI_Low'] = computeRSI(df['1613.35'], 5)\n",
        "#df['RSI_Low'] = computeRSI(df['1613.35'], 7)\n",
        "\n",
        "#df['RSI_Close'] = computeRSI(df['1613.35.1'], 3)\n",
        "#df['RSI_Close'] = computeRSI(df['1613.35.1'], 5)\n",
        "#df['RSI_Close'] = computeRSI(df['1613.35.1'], 7)"
      ],
      "execution_count": null,
      "outputs": []
    },
    {
      "cell_type": "code",
      "metadata": {
        "colab": {
          "base_uri": "https://localhost:8080/",
          "height": 414
        },
        "id": "7XM_cHIzh_Bj",
        "outputId": "7eb0d3c6-0a50-489b-8da3-337788fde063"
      },
      "source": [
        "df"
      ],
      "execution_count": null,
      "outputs": [
        {
          "data": {
            "text/html": [
              "<div>\n",
              "<style scoped>\n",
              "    .dataframe tbody tr th:only-of-type {\n",
              "        vertical-align: middle;\n",
              "    }\n",
              "\n",
              "    .dataframe tbody tr th {\n",
              "        vertical-align: top;\n",
              "    }\n",
              "\n",
              "    .dataframe thead th {\n",
              "        text-align: right;\n",
              "    }\n",
              "</style>\n",
              "<table border=\"1\" class=\"dataframe\">\n",
              "  <thead>\n",
              "    <tr style=\"text-align: right;\">\n",
              "      <th></th>\n",
              "      <th>1614.15</th>\n",
              "      <th>1614.16</th>\n",
              "      <th>1613.35</th>\n",
              "      <th>1613.35.1</th>\n",
              "      <th>oh</th>\n",
              "      <th>ol</th>\n",
              "      <th>hl</th>\n",
              "      <th>co</th>\n",
              "      <th>hc</th>\n",
              "      <th>cl</th>\n",
              "      <th>05m-SMA-Open</th>\n",
              "      <th>07m-WMA-High</th>\n",
              "      <th>26ema</th>\n",
              "      <th>12ema</th>\n",
              "      <th>MACD_High</th>\n",
              "      <th>RSI_Open</th>\n",
              "    </tr>\n",
              "  </thead>\n",
              "  <tbody>\n",
              "    <tr>\n",
              "      <th>0</th>\n",
              "      <td>1613.37</td>\n",
              "      <td>1614.51</td>\n",
              "      <td>1613.33</td>\n",
              "      <td>1613.95</td>\n",
              "      <td>-1.14</td>\n",
              "      <td>0.04</td>\n",
              "      <td>1.18</td>\n",
              "      <td>0.58</td>\n",
              "      <td>0.56</td>\n",
              "      <td>0.62</td>\n",
              "      <td>NaN</td>\n",
              "      <td>NaN</td>\n",
              "      <td>1614.510000</td>\n",
              "      <td>1614.510000</td>\n",
              "      <td>0.000000</td>\n",
              "      <td>NaN</td>\n",
              "    </tr>\n",
              "    <tr>\n",
              "      <th>1</th>\n",
              "      <td>1613.91</td>\n",
              "      <td>1615.06</td>\n",
              "      <td>1612.70</td>\n",
              "      <td>1613.05</td>\n",
              "      <td>-1.15</td>\n",
              "      <td>1.21</td>\n",
              "      <td>2.36</td>\n",
              "      <td>-0.86</td>\n",
              "      <td>2.01</td>\n",
              "      <td>0.35</td>\n",
              "      <td>NaN</td>\n",
              "      <td>NaN</td>\n",
              "      <td>1614.795577</td>\n",
              "      <td>1614.807917</td>\n",
              "      <td>0.012340</td>\n",
              "      <td>NaN</td>\n",
              "    </tr>\n",
              "    <tr>\n",
              "      <th>2</th>\n",
              "      <td>1613.02</td>\n",
              "      <td>1613.41</td>\n",
              "      <td>1611.74</td>\n",
              "      <td>1612.66</td>\n",
              "      <td>-0.39</td>\n",
              "      <td>1.28</td>\n",
              "      <td>1.67</td>\n",
              "      <td>-0.36</td>\n",
              "      <td>0.75</td>\n",
              "      <td>0.92</td>\n",
              "      <td>NaN</td>\n",
              "      <td>NaN</td>\n",
              "      <td>1614.297753</td>\n",
              "      <td>1614.262309</td>\n",
              "      <td>-0.035443</td>\n",
              "      <td>NaN</td>\n",
              "    </tr>\n",
              "    <tr>\n",
              "      <th>3</th>\n",
              "      <td>1612.76</td>\n",
              "      <td>1614.20</td>\n",
              "      <td>1612.53</td>\n",
              "      <td>1613.22</td>\n",
              "      <td>-1.44</td>\n",
              "      <td>0.23</td>\n",
              "      <td>1.67</td>\n",
              "      <td>0.46</td>\n",
              "      <td>0.98</td>\n",
              "      <td>0.69</td>\n",
              "      <td>NaN</td>\n",
              "      <td>NaN</td>\n",
              "      <td>1614.270425</td>\n",
              "      <td>1614.242641</td>\n",
              "      <td>-0.027784</td>\n",
              "      <td>NaN</td>\n",
              "    </tr>\n",
              "    <tr>\n",
              "      <th>4</th>\n",
              "      <td>1613.19</td>\n",
              "      <td>1614.30</td>\n",
              "      <td>1612.98</td>\n",
              "      <td>1613.73</td>\n",
              "      <td>-1.11</td>\n",
              "      <td>0.21</td>\n",
              "      <td>1.32</td>\n",
              "      <td>0.54</td>\n",
              "      <td>0.57</td>\n",
              "      <td>0.75</td>\n",
              "      <td>1613.250</td>\n",
              "      <td>NaN</td>\n",
              "      <td>1614.277284</td>\n",
              "      <td>1614.258225</td>\n",
              "      <td>-0.019059</td>\n",
              "      <td>NaN</td>\n",
              "    </tr>\n",
              "    <tr>\n",
              "      <th>...</th>\n",
              "      <td>...</td>\n",
              "      <td>...</td>\n",
              "      <td>...</td>\n",
              "      <td>...</td>\n",
              "      <td>...</td>\n",
              "      <td>...</td>\n",
              "      <td>...</td>\n",
              "      <td>...</td>\n",
              "      <td>...</td>\n",
              "      <td>...</td>\n",
              "      <td>...</td>\n",
              "      <td>...</td>\n",
              "      <td>...</td>\n",
              "      <td>...</td>\n",
              "      <td>...</td>\n",
              "      <td>...</td>\n",
              "    </tr>\n",
              "    <tr>\n",
              "      <th>99963</th>\n",
              "      <td>1835.03</td>\n",
              "      <td>1837.88</td>\n",
              "      <td>1834.67</td>\n",
              "      <td>1837.65</td>\n",
              "      <td>-2.85</td>\n",
              "      <td>0.36</td>\n",
              "      <td>3.21</td>\n",
              "      <td>2.62</td>\n",
              "      <td>0.23</td>\n",
              "      <td>2.98</td>\n",
              "      <td>1835.730</td>\n",
              "      <td>1837.588929</td>\n",
              "      <td>1844.100711</td>\n",
              "      <td>1839.444397</td>\n",
              "      <td>-4.656314</td>\n",
              "      <td>43.120673</td>\n",
              "    </tr>\n",
              "    <tr>\n",
              "      <th>99964</th>\n",
              "      <td>1837.68</td>\n",
              "      <td>1838.75</td>\n",
              "      <td>1836.66</td>\n",
              "      <td>1836.81</td>\n",
              "      <td>-1.07</td>\n",
              "      <td>1.02</td>\n",
              "      <td>2.09</td>\n",
              "      <td>-0.87</td>\n",
              "      <td>1.94</td>\n",
              "      <td>0.15</td>\n",
              "      <td>1835.766</td>\n",
              "      <td>1837.746071</td>\n",
              "      <td>1843.704362</td>\n",
              "      <td>1839.337567</td>\n",
              "      <td>-4.366795</td>\n",
              "      <td>55.908053</td>\n",
              "    </tr>\n",
              "    <tr>\n",
              "      <th>99965</th>\n",
              "      <td>1836.75</td>\n",
              "      <td>1837.29</td>\n",
              "      <td>1835.58</td>\n",
              "      <td>1835.94</td>\n",
              "      <td>-0.54</td>\n",
              "      <td>1.17</td>\n",
              "      <td>1.71</td>\n",
              "      <td>-0.81</td>\n",
              "      <td>1.35</td>\n",
              "      <td>0.36</td>\n",
              "      <td>1835.566</td>\n",
              "      <td>1837.574286</td>\n",
              "      <td>1843.229224</td>\n",
              "      <td>1839.022557</td>\n",
              "      <td>-4.206668</td>\n",
              "      <td>50.889249</td>\n",
              "    </tr>\n",
              "    <tr>\n",
              "      <th>99966</th>\n",
              "      <td>1835.89</td>\n",
              "      <td>1836.19</td>\n",
              "      <td>1834.59</td>\n",
              "      <td>1835.87</td>\n",
              "      <td>-0.30</td>\n",
              "      <td>1.30</td>\n",
              "      <td>1.60</td>\n",
              "      <td>-0.02</td>\n",
              "      <td>0.32</td>\n",
              "      <td>1.28</td>\n",
              "      <td>1835.710</td>\n",
              "      <td>1837.186071</td>\n",
              "      <td>1842.707800</td>\n",
              "      <td>1838.586779</td>\n",
              "      <td>-4.121022</td>\n",
              "      <td>46.105143</td>\n",
              "    </tr>\n",
              "    <tr>\n",
              "      <th>99967</th>\n",
              "      <td>1835.83</td>\n",
              "      <td>1837.49</td>\n",
              "      <td>1835.08</td>\n",
              "      <td>1836.76</td>\n",
              "      <td>-1.66</td>\n",
              "      <td>0.75</td>\n",
              "      <td>2.41</td>\n",
              "      <td>0.93</td>\n",
              "      <td>0.73</td>\n",
              "      <td>1.68</td>\n",
              "      <td>1836.236</td>\n",
              "      <td>1837.251071</td>\n",
              "      <td>1842.321297</td>\n",
              "      <td>1838.418043</td>\n",
              "      <td>-3.903253</td>\n",
              "      <td>45.730221</td>\n",
              "    </tr>\n",
              "  </tbody>\n",
              "</table>\n",
              "<p>99968 rows × 16 columns</p>\n",
              "</div>"
            ],
            "text/plain": [
              "       1614.15  1614.16  1613.35  ...        12ema  MACD_High   RSI_Open\n",
              "0      1613.37  1614.51  1613.33  ...  1614.510000   0.000000        NaN\n",
              "1      1613.91  1615.06  1612.70  ...  1614.807917   0.012340        NaN\n",
              "2      1613.02  1613.41  1611.74  ...  1614.262309  -0.035443        NaN\n",
              "3      1612.76  1614.20  1612.53  ...  1614.242641  -0.027784        NaN\n",
              "4      1613.19  1614.30  1612.98  ...  1614.258225  -0.019059        NaN\n",
              "...        ...      ...      ...  ...          ...        ...        ...\n",
              "99963  1835.03  1837.88  1834.67  ...  1839.444397  -4.656314  43.120673\n",
              "99964  1837.68  1838.75  1836.66  ...  1839.337567  -4.366795  55.908053\n",
              "99965  1836.75  1837.29  1835.58  ...  1839.022557  -4.206668  50.889249\n",
              "99966  1835.89  1836.19  1834.59  ...  1838.586779  -4.121022  46.105143\n",
              "99967  1835.83  1837.49  1835.08  ...  1838.418043  -3.903253  45.730221\n",
              "\n",
              "[99968 rows x 16 columns]"
            ]
          },
          "execution_count": 26,
          "metadata": {},
          "output_type": "execute_result"
        }
      ]
    },
    {
      "cell_type": "code",
      "metadata": {
        "id": "AOUr4n2Q6Xen"
      },
      "source": [
        "df = np.array(df)"
      ],
      "execution_count": null,
      "outputs": []
    },
    {
      "cell_type": "code",
      "metadata": {
        "id": "3AI-VDYf6afF"
      },
      "source": [
        "for i in range(4,44):\n",
        "  for j in range(len(df)):\n",
        "    if np.isnan(df[j,i]):\n",
        "      df[j,i]=0"
      ],
      "execution_count": null,
      "outputs": []
    },
    {
      "cell_type": "code",
      "metadata": {
        "id": "FjwYLKHo6acL"
      },
      "source": [
        "df = pd.DataFrame(df)"
      ],
      "execution_count": null,
      "outputs": []
    },
    {
      "cell_type": "markdown",
      "metadata": {
        "id": "etjDzfqHVng0"
      },
      "source": [
        "# **continiue**"
      ]
    },
    {
      "cell_type": "code",
      "metadata": {
        "id": "oZua5TBVKEhf"
      },
      "source": [
        "trainsize=int(len(df)*0.6)\n",
        "testsize=len(df)-trainsize"
      ],
      "execution_count": null,
      "outputs": []
    },
    {
      "cell_type": "code",
      "metadata": {
        "id": "xRu18QNfJfVO"
      },
      "source": [
        "Total_len = len(df)\n",
        "Train_len = Total_len - testsize\n",
        "Test_len = Total_len - Train_len\n",
        "Train = df.head(n = Train_len)\n",
        "Test = df.tail(n = Test_len)"
      ],
      "execution_count": null,
      "outputs": []
    },
    {
      "cell_type": "code",
      "metadata": {
        "id": "QMJ9GsJ5KTE9"
      },
      "source": [
        " P = ((Train[Train.columns[0]] + Train[Train.columns[1]] + Train[Train.columns[2]] + Train[Train.columns[3]]) / 4)"
      ],
      "execution_count": null,
      "outputs": []
    },
    {
      "cell_type": "code",
      "metadata": {
        "colab": {
          "base_uri": "https://localhost:8080/"
        },
        "id": "JVaCdPBNXOor",
        "outputId": "b18767e7-92b6-4d8b-ed94-d8f761815967"
      },
      "source": [
        "type(P)"
      ],
      "execution_count": null,
      "outputs": [
        {
          "data": {
            "text/plain": [
              "pandas.core.series.Series"
            ]
          },
          "execution_count": 82,
          "metadata": {},
          "output_type": "execute_result"
        }
      ]
    },
    {
      "cell_type": "code",
      "metadata": {
        "id": "mKfI9zyBXYkp"
      },
      "source": [
        "P1 = np.array(P)"
      ],
      "execution_count": null,
      "outputs": []
    },
    {
      "cell_type": "code",
      "metadata": {
        "colab": {
          "base_uri": "https://localhost:8080/"
        },
        "id": "vetwbFaCxF5H",
        "outputId": "f601d02e-5439-4701-d88b-b2afb6d8dbdd"
      },
      "source": [
        "print(type(P))\n",
        "print(type(P1))"
      ],
      "execution_count": null,
      "outputs": [
        {
          "name": "stdout",
          "output_type": "stream",
          "text": [
            "<class 'pandas.core.series.Series'>\n",
            "<class 'numpy.ndarray'>\n"
          ]
        }
      ]
    },
    {
      "cell_type": "code",
      "metadata": {
        "colab": {
          "base_uri": "https://localhost:8080/"
        },
        "id": "moTpzN95npAi",
        "outputId": "8bd0d4a7-3d8f-4b6a-b2b8-993ffabfe3c1"
      },
      "source": [
        "m = stats.mode(P1)\n",
        "print(m)"
      ],
      "execution_count": null,
      "outputs": [
        {
          "name": "stdout",
          "output_type": "stream",
          "text": [
            "ModeResult(mode=array([1229.99]), count=array([7]))\n"
          ]
        }
      ]
    },
    {
      "cell_type": "code",
      "metadata": {
        "colab": {
          "background_save": true,
          "base_uri": "https://localhost:8080/"
        },
        "id": "R0C1eQ9AKS-r",
        "outputId": "aa9da36f-986e-4ee0-b158-0c0d23eed93e"
      },
      "source": [
        "    MODE = 1229.99\n",
        "    H_MEAN = sts.harmonic_mean(P)\n",
        "    G_MEAN = gmean(P)\n",
        "    VAR = sts.stdev(P)\n",
        "    Train_Min = min(Train.min())\n",
        "    Train_Max = max(Train.max())\n",
        "    print('mode= ', MODE)\n",
        "    print('min = ', Train_Min)\n",
        "    print('Max = ', Train_Max)\n",
        "  \n",
        "    print('Harmonic Avg. = ', H_MEAN)\n",
        "    print('Geometric Mean = ', G_MEAN)"
      ],
      "execution_count": null,
      "outputs": [
        {
          "name": "stdout",
          "output_type": "stream",
          "text": [
            "mode=  1229.99\n",
            "min =  -49.26999999999998\n",
            "Max =  1795.87\n",
            "Harmonic Avg. =  1286.2506898255112\n",
            "Geometric Mean =  1295.0314390513633\n"
          ]
        }
      ]
    },
    {
      "cell_type": "code",
      "metadata": {
        "colab": {
          "background_save": true
        },
        "id": "HCF-4-dYJYrN"
      },
      "source": [
        "ColList=range(4)\n",
        "ColList = list(ColList)"
      ],
      "execution_count": null,
      "outputs": []
    },
    {
      "cell_type": "code",
      "metadata": {
        "id": "JK0iUF_jM74D"
      },
      "source": [
        "    DF_std = Train.copy()\n",
        "    DF_Mode =Train.copy()\n",
        "    DF_HM = Train.copy()\n",
        "    DF_GM = Train.copy()\n",
        "    DF_temp = (Train.iloc[:, ColList] - Train_Min) / (Train_Max - Train_Min)\n",
        "    DF_std[ColList] = DF_temp\n",
        "    Train_std = DF_std[ColList]\n",
        "    DF_temp = (Test.iloc[:, ColList] - MODE) / (Train_Max - Train_Min)\n",
        "    DF_Mode[ColList] = DF_temp\n",
        "    Train_Mode = DF_Mode[ColList]\n",
        "    DF_temp = (Train.iloc[:, ColList] - H_MEAN) / (Train_Max - Train_Min)\n",
        "    DF_HM[ColList] = DF_temp\n",
        "    Train_HM = DF_HM[ColList]\n",
        "    DF_temp = (Train.iloc[:, ColList] - G_MEAN) / ( - Train_Min)\n",
        "    DF_GM[ColList] = DF_temp\n",
        "    Train_GM = DF_GM[ColList]"
      ],
      "execution_count": null,
      "outputs": []
    },
    {
      "cell_type": "code",
      "metadata": {
        "id": "a-yPIs508P1J"
      },
      "source": [
        "    DF_std = Test.copy()\n",
        "    DF_Mode = Test.copy()\n",
        "    DF_HM = Test.copy()\n",
        "    DF_GM = Test.copy()\n",
        "    DF_temp = (Test.iloc[:, ColList] - Train_Min) / (Train_Max - Train_Min)\n",
        "    DF_std[ColList] = DF_temp\n",
        "    Test_std = DF_std[ColList]\n",
        "    DF_temp = (Test.iloc[:, ColList] - MODE) / (Train_Max - Train_Min)\n",
        "    DF_Mode[ColList] = DF_temp\n",
        "    Test_Mode = DF_Mode[ColList]\n",
        "    DF_temp = (Test.iloc[:, ColList] - H_MEAN) / (Train_Max - Train_Min)\n",
        "    DF_HM[ColList] = DF_temp\n",
        "    Test_HM = DF_HM[ColList]\n",
        "    DF_temp = (Test.iloc[:, ColList] - G_MEAN) / ( - Train_Min)\n",
        "    DF_GM[ColList] = DF_temp\n",
        "    Test_GM = DF_GM[ColList]"
      ],
      "execution_count": null,
      "outputs": []
    },
    {
      "cell_type": "code",
      "metadata": {
        "id": "KP7xZZyxAfiJ"
      },
      "source": [
        "    DF_df = df.copy()\n",
        "    DF_temp = (df.iloc[:, ColList] - G_MEAN) / ( - Train_Min)\n",
        "    DF_df[ColList] = DF_temp\n",
        "    df_prime = DF_df[ColList]"
      ],
      "execution_count": null,
      "outputs": []
    },
    {
      "cell_type": "code",
      "metadata": {
        "id": "GgJDoVD74f3M"
      },
      "source": [
        "Train_MinMax = Train_std * (Train_Max - Train_Min) + Train_Min\n",
        "Train_M_MinMax = Train_Mode * (Train_Max - Train_Min) + Train_Min\n",
        "Train_H_MinMax = Train_HM * (Train_Max - Train_Min) + Train_Min\n",
        "Train_G_MinMax = Train_GM * (Train_Max - Train_Min) + Train_Min"
      ],
      "execution_count": null,
      "outputs": []
    },
    {
      "cell_type": "code",
      "metadata": {
        "id": "80x5feuP4f0e"
      },
      "source": [
        "Test_MinMax = Test_std * (Train_Max - Train_Min) + Train_Min\n",
        "Test_M_MinMax = Test_Mode * (Train_Max - Train_Min) + Train_Min\n",
        "Test_H_MinMax = Test_HM * (Train_Max - Train_Min) + Train_Min\n",
        "Test_G_MinMax = Test_GM * (Train_Max - Train_Min) + Train_Min"
      ],
      "execution_count": null,
      "outputs": []
    },
    {
      "cell_type": "code",
      "metadata": {
        "id": "kf4a1oOWGbJW"
      },
      "source": [
        "def create_dataset(dataset, time_step):\n",
        "    dataX, dataY = [], []\n",
        "    for i in range(len(dataset)-time_step):\n",
        "        a = dataset[i:(i+time_step), :]\n",
        "        dataX.append(a)\n",
        "        dataY.append(dataset[i+time_step, :])\n",
        "    return np.array(dataX), np.array(dataY)"
      ],
      "execution_count": null,
      "outputs": []
    },
    {
      "cell_type": "code",
      "metadata": {
        "colab": {
          "base_uri": "https://localhost:8080/"
        },
        "id": "D13e__z40Vlh",
        "outputId": "b2f231b8-1484-45f7-96f0-ecf31e998297"
      },
      "source": [
        "Train_std.shape"
      ],
      "execution_count": null,
      "outputs": [
        {
          "data": {
            "text/plain": [
              "(79974, 4)"
            ]
          },
          "execution_count": 95,
          "metadata": {},
          "output_type": "execute_result"
        }
      ]
    },
    {
      "cell_type": "code",
      "metadata": {
        "colab": {
          "base_uri": "https://localhost:8080/"
        },
        "id": "fAz2KMLf5mv-",
        "outputId": "33a63499-9fba-4dbd-890e-0722b766f56f"
      },
      "source": [
        "type(Train_std)"
      ],
      "execution_count": null,
      "outputs": [
        {
          "data": {
            "text/plain": [
              "pandas.core.frame.DataFrame"
            ]
          },
          "execution_count": 96,
          "metadata": {},
          "output_type": "execute_result"
        }
      ]
    },
    {
      "cell_type": "code",
      "metadata": {
        "id": "YqA9XmK459WX"
      },
      "source": [
        "Train_std = np.array(Train_std)\n",
        "Test_std = np.array(Test_std)"
      ],
      "execution_count": null,
      "outputs": []
    },
    {
      "cell_type": "code",
      "metadata": {
        "id": "xsjXaRn8S8Tn"
      },
      "source": [
        "#pca = PCA()\n",
        "#Train_std_pca = pca.fit(Train_std)\n",
        "#Test_std_pca = pca.fit(Test_std)"
      ],
      "execution_count": null,
      "outputs": []
    },
    {
      "cell_type": "code",
      "metadata": {
        "id": "Sfe_uy6WS-O2"
      },
      "source": [
        "#plt.plot(np.cumsum(pca.explained_variance_ratio_))\n",
        "#plt.xlabel('number of components')\n",
        "#plt.ylabel('cumulative explained variance');"
      ],
      "execution_count": null,
      "outputs": []
    },
    {
      "cell_type": "code",
      "metadata": {
        "id": "eR3Z7nWHS-Ls"
      },
      "source": [
        "#num_components = 10\n",
        "#pca = PCA(num_components)  \n",
        "#Train_std_pca = pca.fit_transform(Train_std)\n",
        "#Test_std_pca = pca.fit_transform(Test_std)"
      ],
      "execution_count": null,
      "outputs": []
    },
    {
      "cell_type": "code",
      "metadata": {
        "id": "fgzDbCUdvmdf"
      },
      "source": [
        "xtrain, ytrain = create_dataset(Train_std, WIND)"
      ],
      "execution_count": null,
      "outputs": []
    },
    {
      "cell_type": "code",
      "metadata": {
        "id": "scnebPHI7SIw"
      },
      "source": [
        "xtest, ytest = create_dataset(Test_std, WIND)"
      ],
      "execution_count": null,
      "outputs": []
    },
    {
      "cell_type": "code",
      "metadata": {
        "colab": {
          "base_uri": "https://localhost:8080/",
          "height": 414
        },
        "id": "AG7YeUrN4RsI",
        "outputId": "e7792325-135e-4367-be10-5d58dc64347c"
      },
      "source": [
        "df"
      ],
      "execution_count": null,
      "outputs": [
        {
          "data": {
            "text/html": [
              "<div>\n",
              "<style scoped>\n",
              "    .dataframe tbody tr th:only-of-type {\n",
              "        vertical-align: middle;\n",
              "    }\n",
              "\n",
              "    .dataframe tbody tr th {\n",
              "        vertical-align: top;\n",
              "    }\n",
              "\n",
              "    .dataframe thead th {\n",
              "        text-align: right;\n",
              "    }\n",
              "</style>\n",
              "<table border=\"1\" class=\"dataframe\">\n",
              "  <thead>\n",
              "    <tr style=\"text-align: right;\">\n",
              "      <th></th>\n",
              "      <th>1614.15</th>\n",
              "      <th>1614.16</th>\n",
              "      <th>1613.35</th>\n",
              "      <th>1613.35.1</th>\n",
              "    </tr>\n",
              "  </thead>\n",
              "  <tbody>\n",
              "    <tr>\n",
              "      <th>0</th>\n",
              "      <td>1613.37</td>\n",
              "      <td>1614.51</td>\n",
              "      <td>1613.33</td>\n",
              "      <td>1613.95</td>\n",
              "    </tr>\n",
              "    <tr>\n",
              "      <th>1</th>\n",
              "      <td>1613.91</td>\n",
              "      <td>1615.06</td>\n",
              "      <td>1612.70</td>\n",
              "      <td>1613.05</td>\n",
              "    </tr>\n",
              "    <tr>\n",
              "      <th>2</th>\n",
              "      <td>1613.02</td>\n",
              "      <td>1613.41</td>\n",
              "      <td>1611.74</td>\n",
              "      <td>1612.66</td>\n",
              "    </tr>\n",
              "    <tr>\n",
              "      <th>3</th>\n",
              "      <td>1612.76</td>\n",
              "      <td>1614.20</td>\n",
              "      <td>1612.53</td>\n",
              "      <td>1613.22</td>\n",
              "    </tr>\n",
              "    <tr>\n",
              "      <th>4</th>\n",
              "      <td>1613.19</td>\n",
              "      <td>1614.30</td>\n",
              "      <td>1612.98</td>\n",
              "      <td>1613.73</td>\n",
              "    </tr>\n",
              "    <tr>\n",
              "      <th>...</th>\n",
              "      <td>...</td>\n",
              "      <td>...</td>\n",
              "      <td>...</td>\n",
              "      <td>...</td>\n",
              "    </tr>\n",
              "    <tr>\n",
              "      <th>99963</th>\n",
              "      <td>1835.03</td>\n",
              "      <td>1837.88</td>\n",
              "      <td>1834.67</td>\n",
              "      <td>1837.65</td>\n",
              "    </tr>\n",
              "    <tr>\n",
              "      <th>99964</th>\n",
              "      <td>1837.68</td>\n",
              "      <td>1838.75</td>\n",
              "      <td>1836.66</td>\n",
              "      <td>1836.81</td>\n",
              "    </tr>\n",
              "    <tr>\n",
              "      <th>99965</th>\n",
              "      <td>1836.75</td>\n",
              "      <td>1837.29</td>\n",
              "      <td>1835.58</td>\n",
              "      <td>1835.94</td>\n",
              "    </tr>\n",
              "    <tr>\n",
              "      <th>99966</th>\n",
              "      <td>1835.89</td>\n",
              "      <td>1836.19</td>\n",
              "      <td>1834.59</td>\n",
              "      <td>1835.87</td>\n",
              "    </tr>\n",
              "    <tr>\n",
              "      <th>99967</th>\n",
              "      <td>1835.83</td>\n",
              "      <td>1837.49</td>\n",
              "      <td>1835.08</td>\n",
              "      <td>1836.76</td>\n",
              "    </tr>\n",
              "  </tbody>\n",
              "</table>\n",
              "<p>99968 rows × 4 columns</p>\n",
              "</div>"
            ],
            "text/plain": [
              "       1614.15  1614.16  1613.35  1613.35.1\n",
              "0      1613.37  1614.51  1613.33    1613.95\n",
              "1      1613.91  1615.06  1612.70    1613.05\n",
              "2      1613.02  1613.41  1611.74    1612.66\n",
              "3      1612.76  1614.20  1612.53    1613.22\n",
              "4      1613.19  1614.30  1612.98    1613.73\n",
              "...        ...      ...      ...        ...\n",
              "99963  1835.03  1837.88  1834.67    1837.65\n",
              "99964  1837.68  1838.75  1836.66    1836.81\n",
              "99965  1836.75  1837.29  1835.58    1835.94\n",
              "99966  1835.89  1836.19  1834.59    1835.87\n",
              "99967  1835.83  1837.49  1835.08    1836.76\n",
              "\n",
              "[99968 rows x 4 columns]"
            ]
          },
          "execution_count": 103,
          "metadata": {},
          "output_type": "execute_result"
        }
      ]
    },
    {
      "cell_type": "code",
      "metadata": {
        "id": "sYMR8z934NnM"
      },
      "source": [
        ""
      ],
      "execution_count": null,
      "outputs": []
    },
    {
      "cell_type": "code",
      "metadata": {
        "id": "c4c3Wix7LM_i"
      },
      "source": [
        "xtest = xtest[:90]\n",
        "ytest = ytest[:90]"
      ],
      "execution_count": null,
      "outputs": []
    },
    {
      "cell_type": "code",
      "metadata": {
        "colab": {
          "base_uri": "https://localhost:8080/"
        },
        "id": "opuL-o0nZ2oy",
        "outputId": "e51f660e-483e-4de4-bf62-b8c281d06e3c"
      },
      "source": [
        "print('training samples: ', xtest.shape)\n",
        "print('testing samples: ', ytest.shape)"
      ],
      "execution_count": null,
      "outputs": [
        {
          "name": "stdout",
          "output_type": "stream",
          "text": [
            "training samples:  (90, 3, 4)\n",
            "testing samples:  (90, 4)\n"
          ]
        }
      ]
    },
    {
      "cell_type": "code",
      "metadata": {
        "colab": {
          "base_uri": "https://localhost:8080/"
        },
        "id": "imL181Ga7vnU",
        "outputId": "8c80c6c8-16a1-43bd-f41e-72f657f49f83"
      },
      "source": [
        "print('training samples: ', xtrain.shape)\n",
        "print('testing samples: ', ytrain.shape)"
      ],
      "execution_count": null,
      "outputs": [
        {
          "name": "stdout",
          "output_type": "stream",
          "text": [
            "training samples:  (79971, 3, 4)\n",
            "testing samples:  (79971, 4)\n"
          ]
        }
      ]
    },
    {
      "cell_type": "code",
      "metadata": {
        "id": "n5QEYngJVDZD"
      },
      "source": [
        "def swish(x, beta = 1):\n",
        "   return (x * sigmoid(beta * x))\n",
        "from keras.utils.generic_utils import get_custom_objects\n",
        "from keras.layers import Activation\n",
        "get_custom_objects().update({'swish': Activation(swish)})"
      ],
      "execution_count": null,
      "outputs": []
    },
    {
      "cell_type": "code",
      "metadata": {
        "id": "-jhh87puEe9K"
      },
      "source": [
        "def FLF(yTrue, yPred):\n",
        "\n",
        "  lam = 0.1\n",
        "  v   = Lambda(lambda x: x*0.9)((yTrue-yPred))\n",
        "  vn  = Lambda(lambda x: x*lam)(K.abs((yTrue[:,1]+yTrue[:,2])/2 - (yPred[:,1]+yPred[:,2])/2))\n",
        "  vn1 = Lambda(lambda x: x*lam)(K.abs((yTrue[:,0]+yTrue[:,3])/2 - (yPred[:,0]+yPred[:,3])/2))\n",
        "  vx  = K.square((v[:,0]-vn1))\n",
        "  vy  = K.square((v[:,1]-vn))\n",
        "  vz  = K.square((v[:,2]-vn))\n",
        "  v4  = K.square((v[:,3]-vn1))\n",
        "  vm  = K.concatenate([vx, vy, vz, v4])\n",
        "  vmx = K.mean(vm)\n",
        "  return vmx"
      ],
      "execution_count": null,
      "outputs": []
    },
    {
      "cell_type": "code",
      "metadata": {
        "colab": {
          "base_uri": "https://localhost:8080/"
        },
        "id": "zFFMSDUq4dyb",
        "outputId": "5e66b9ff-8f42-4be1-9639-4f94e40cd607"
      },
      "source": [
        "xtrain.shape"
      ],
      "execution_count": null,
      "outputs": [
        {
          "data": {
            "text/plain": [
              "(79971, 3, 4)"
            ]
          },
          "execution_count": 109,
          "metadata": {},
          "output_type": "execute_result"
        }
      ]
    },
    {
      "cell_type": "code",
      "metadata": {
        "colab": {
          "base_uri": "https://localhost:8080/"
        },
        "id": "zVQUi7XgpGGU",
        "outputId": "2a5b1753-b929-4914-eee0-676901c970ef"
      },
      "source": [
        "xtrain.shape"
      ],
      "execution_count": null,
      "outputs": [
        {
          "data": {
            "text/plain": [
              "(79971, 3, 4)"
            ]
          },
          "execution_count": 110,
          "metadata": {},
          "output_type": "execute_result"
        }
      ]
    },
    {
      "cell_type": "code",
      "metadata": {
        "colab": {
          "base_uri": "https://localhost:8080/"
        },
        "id": "vF1zgnpVaqxV",
        "outputId": "9adcc130-1f30-47c3-9563-a70db72732d6"
      },
      "source": [
        "model = Sequential()\n",
        "model.add(Conv1D(64, 3, input_shape= (3,4), padding='same'))\n",
        "#model.add(MaxPooling1D(pool_size = (2)))\n",
        "model.add(Conv1D(32, 3, padding='same'))\n",
        "model.add(Flatten())\n",
        "#model.add(MaxPooling1D(pool_size = (2)))\n",
        "model.add(Dense(4))\n",
        "model.add(Activation('linear'))\n",
        "model.build((None, 3,4))\n",
        "print(model.summary())\n",
        "print('--------------------------------------------------------------------------------------')\n",
        "print('--------------------------------------------------------------------------------------')\n",
        "print('--------------------------------------------------------------------------------------')\n",
        "model2 = Sequential()\n",
        "model2.add(LSTM(256,input_shape=(xtrain.shape[1], xtrain.shape[2]), activation= 'tanh',return_sequences=True))\n",
        "model2.add(LSTM(256,activation= 'tanh'))\n",
        "model2.add(Dense(4))\n",
        "model2.build((None,3,4))\n",
        "print(model2.summary())\n",
        "\n",
        "opt = Adam(lr=0.00001)"
      ],
      "execution_count": null,
      "outputs": [
        {
          "name": "stdout",
          "output_type": "stream",
          "text": [
            "Model: \"sequential_4\"\n",
            "_________________________________________________________________\n",
            "Layer (type)                 Output Shape              Param #   \n",
            "=================================================================\n",
            "conv1d_4 (Conv1D)            (None, 3, 64)             832       \n",
            "_________________________________________________________________\n",
            "conv1d_5 (Conv1D)            (None, 3, 32)             6176      \n",
            "_________________________________________________________________\n",
            "flatten_2 (Flatten)          (None, 96)                0         \n",
            "_________________________________________________________________\n",
            "dense_4 (Dense)              (None, 4)                 388       \n",
            "_________________________________________________________________\n",
            "activation_4 (Activation)    (None, 4)                 0         \n",
            "=================================================================\n",
            "Total params: 7,396\n",
            "Trainable params: 7,396\n",
            "Non-trainable params: 0\n",
            "_________________________________________________________________\n",
            "None\n",
            "--------------------------------------------------------------------------------------\n",
            "--------------------------------------------------------------------------------------\n",
            "--------------------------------------------------------------------------------------\n",
            "Model: \"sequential_5\"\n",
            "_________________________________________________________________\n",
            "Layer (type)                 Output Shape              Param #   \n",
            "=================================================================\n",
            "lstm_4 (LSTM)                (None, 3, 256)            267264    \n",
            "_________________________________________________________________\n",
            "lstm_5 (LSTM)                (None, 256)               525312    \n",
            "_________________________________________________________________\n",
            "dense_5 (Dense)              (None, 4)                 1028      \n",
            "=================================================================\n",
            "Total params: 793,604\n",
            "Trainable params: 793,604\n",
            "Non-trainable params: 0\n",
            "_________________________________________________________________\n",
            "None\n"
          ]
        },
        {
          "name": "stderr",
          "output_type": "stream",
          "text": [
            "/usr/local/lib/python3.7/dist-packages/keras/optimizer_v2/optimizer_v2.py:356: UserWarning: The `lr` argument is deprecated, use `learning_rate` instead.\n",
            "  \"The `lr` argument is deprecated, use `learning_rate` instead.\")\n"
          ]
        }
      ]
    },
    {
      "cell_type": "code",
      "metadata": {
        "id": "y1rJXwI2aqxX"
      },
      "source": [
        "model.compile(optimizer=opt,loss=FLF)\n",
        "model2.compile(optimizer=opt,loss=FLF)"
      ],
      "execution_count": null,
      "outputs": []
    },
    {
      "cell_type": "code",
      "metadata": {
        "colab": {
          "base_uri": "https://localhost:8080/"
        },
        "id": "VqY_Nw4ZaqxY",
        "outputId": "ec701500-5c4c-40c9-f570-d6aa39e7ff2a"
      },
      "source": [
        "model.fit(xtrain, ytrain, epochs=15, batch_size=20, validation_data=(xtest, ytest))\n",
        "print('--------------------------------------------------------------------------------------')\n",
        "print('--------------------------------------------------------------------------------------')\n",
        "print('--------------------------------------------------------------------------------------')\n",
        "#model2.fit(xtrain, ytrain, epochs=20, batch_size=3, validation_data=(xtest, ytest))"
      ],
      "execution_count": null,
      "outputs": [
        {
          "name": "stdout",
          "output_type": "stream",
          "text": [
            "Epoch 1/15\n",
            "3999/3999 [==============================] - 44s 4ms/step - loss: 0.0014 - val_loss: 1.7815e-06\n",
            "Epoch 2/15\n",
            "3999/3999 [==============================] - 16s 4ms/step - loss: 6.4558e-06 - val_loss: 2.2817e-06\n",
            "Epoch 3/15\n",
            "3999/3999 [==============================] - 16s 4ms/step - loss: 6.3074e-06 - val_loss: 1.8634e-06\n",
            "Epoch 4/15\n",
            "3999/3999 [==============================] - 16s 4ms/step - loss: 5.9198e-06 - val_loss: 2.0064e-06\n",
            "Epoch 5/15\n",
            "3999/3999 [==============================] - 16s 4ms/step - loss: 5.5187e-06 - val_loss: 2.2192e-06\n",
            "Epoch 6/15\n",
            "3999/3999 [==============================] - 16s 4ms/step - loss: 5.1349e-06 - val_loss: 1.7849e-06\n",
            "Epoch 7/15\n",
            "3999/3999 [==============================] - 15s 4ms/step - loss: 4.8221e-06 - val_loss: 1.2963e-06\n",
            "Epoch 8/15\n",
            "3999/3999 [==============================] - 16s 4ms/step - loss: 4.5297e-06 - val_loss: 1.2255e-06\n",
            "Epoch 9/15\n",
            "3999/3999 [==============================] - 16s 4ms/step - loss: 4.2894e-06 - val_loss: 1.0910e-06\n",
            "Epoch 10/15\n",
            "3999/3999 [==============================] - 16s 4ms/step - loss: 4.0752e-06 - val_loss: 9.5088e-07\n",
            "Epoch 11/15\n",
            "3999/3999 [==============================] - 16s 4ms/step - loss: 3.9006e-06 - val_loss: 9.2651e-07\n",
            "Epoch 12/15\n",
            "3999/3999 [==============================] - 16s 4ms/step - loss: 3.7325e-06 - val_loss: 1.1325e-06\n",
            "Epoch 13/15\n",
            "3999/3999 [==============================] - 16s 4ms/step - loss: 3.6096e-06 - val_loss: 1.0455e-06\n",
            "Epoch 14/15\n",
            "3999/3999 [==============================] - 16s 4ms/step - loss: 3.4867e-06 - val_loss: 8.4074e-07\n",
            "Epoch 15/15\n",
            "3999/3999 [==============================] - 16s 4ms/step - loss: 3.3942e-06 - val_loss: 1.1614e-06\n",
            "--------------------------------------------------------------------------------------\n",
            "--------------------------------------------------------------------------------------\n",
            "--------------------------------------------------------------------------------------\n"
          ]
        }
      ]
    },
    {
      "cell_type": "code",
      "metadata": {
        "colab": {
          "base_uri": "https://localhost:8080/"
        },
        "id": "OmFhuPOz3dF1",
        "outputId": "c32b95bb-183f-4786-a662-aa1b167855ac"
      },
      "source": [
        "accuracy=model.evaluate(xtest,ytest)\n",
        "print(accuracy)\n",
        "print('-----------------------------------------------------------------------------------')\n",
        "#accuracy2=model.evaluate(xtest,ytest)\n",
        "#print(accuracy2)"
      ],
      "execution_count": null,
      "outputs": [
        {
          "name": "stdout",
          "output_type": "stream",
          "text": [
            "3/3 [==============================] - 0s 14ms/step - loss: 1.1614e-06\n",
            "1.1613990409387043e-06\n",
            "-----------------------------------------------------------------------------------\n"
          ]
        }
      ]
    },
    {
      "cell_type": "code",
      "metadata": {
        "id": "KHftgzKfzvkE"
      },
      "source": [
        "test_pred = model.predict(xtest)\n",
        "#test_pred2 = model2.predict(xtest)"
      ],
      "execution_count": null,
      "outputs": []
    },
    {
      "cell_type": "code",
      "metadata": {
        "id": "e0OnPKwZTfSg"
      },
      "source": [
        "#test_pred2.shape"
      ],
      "execution_count": null,
      "outputs": []
    },
    {
      "cell_type": "code",
      "metadata": {
        "colab": {
          "base_uri": "https://localhost:8080/"
        },
        "id": "RnXZvlk64nyb",
        "outputId": "6b77cb00-7acc-4466-d569-bfadaa71e145"
      },
      "source": [
        "print(ytest.shape)\n"
      ],
      "execution_count": null,
      "outputs": [
        {
          "name": "stdout",
          "output_type": "stream",
          "text": [
            "(90, 4)\n"
          ]
        }
      ]
    },
    {
      "cell_type": "code",
      "metadata": {
        "id": "XvNiMG3_we-Y"
      },
      "source": [
        "ytest_rescale = ytest * (Train_Max - Train_Min) + Train_Min"
      ],
      "execution_count": null,
      "outputs": []
    },
    {
      "cell_type": "code",
      "metadata": {
        "colab": {
          "base_uri": "https://localhost:8080/"
        },
        "id": "oS0-H_U_1efN",
        "outputId": "3f26814f-dcfc-4875-f52d-d40d7b18b13f"
      },
      "source": [
        "ytest_rescale"
      ],
      "execution_count": null,
      "outputs": [
        {
          "data": {
            "text/plain": [
              "array([[1274.14, 1275.12, 1273.77, 1273.93],\n",
              "       [1273.93, 1275.32, 1273.32, 1274.06],\n",
              "       [1274.06, 1275.03, 1274.05, 1274.5 ],\n",
              "       [1274.5 , 1276.43, 1274.11, 1275.23],\n",
              "       [1275.23, 1276.59, 1275.22, 1275.8 ],\n",
              "       [1275.8 , 1276.17, 1275.29, 1276.07],\n",
              "       [1276.07, 1276.35, 1275.57, 1275.96],\n",
              "       [1275.96, 1277.72, 1275.87, 1276.69],\n",
              "       [1276.69, 1277.75, 1276.3 , 1277.57],\n",
              "       [1277.49, 1277.83, 1276.92, 1277.14],\n",
              "       [1277.14, 1277.36, 1276.65, 1277.25],\n",
              "       [1277.22, 1283.71, 1276.86, 1282.87],\n",
              "       [1282.87, 1283.58, 1281.21, 1282.73],\n",
              "       [1282.73, 1282.73, 1279.22, 1279.94],\n",
              "       [1279.94, 1284.15, 1279.49, 1283.41],\n",
              "       [1283.4 , 1285.26, 1283.21, 1283.85],\n",
              "       [1283.9 , 1286.35, 1282.98, 1285.45],\n",
              "       [1285.45, 1287.27, 1285.37, 1285.98],\n",
              "       [1285.98, 1286.57, 1285.09, 1286.21],\n",
              "       [1286.21, 1286.37, 1285.11, 1285.45],\n",
              "       [1285.43, 1285.97, 1284.87, 1285.67],\n",
              "       [1285.67, 1286.75, 1284.69, 1285.6 ],\n",
              "       [1285.6 , 1285.6 , 1284.41, 1284.59],\n",
              "       [1284.61, 1285.49, 1284.21, 1285.29],\n",
              "       [1285.33, 1285.39, 1284.73, 1285.03],\n",
              "       [1285.03, 1285.43, 1283.47, 1283.72],\n",
              "       [1283.72, 1284.3 , 1283.25, 1283.6 ],\n",
              "       [1283.6 , 1283.9 , 1283.39, 1283.51],\n",
              "       [1283.51, 1283.66, 1283.31, 1283.56],\n",
              "       [1283.49, 1283.54, 1283.1 , 1283.51],\n",
              "       [1283.51, 1284.15, 1283.41, 1283.95],\n",
              "       [1283.93, 1284.3 , 1283.76, 1284.1 ],\n",
              "       [1284.1 , 1284.34, 1283.73, 1284.03],\n",
              "       [1284.05, 1284.06, 1283.3 , 1283.6 ],\n",
              "       [1283.6 , 1283.69, 1282.75, 1283.51],\n",
              "       [1283.51, 1283.93, 1282.73, 1283.14],\n",
              "       [1283.14, 1283.25, 1282.64, 1282.64],\n",
              "       [1282.64, 1282.93, 1282.44, 1282.82],\n",
              "       [1282.83, 1283.81, 1282.61, 1283.79],\n",
              "       [1283.74, 1284.49, 1283.53, 1284.21],\n",
              "       [1284.22, 1284.41, 1283.67, 1283.87],\n",
              "       [1283.87, 1283.97, 1283.37, 1283.56],\n",
              "       [1283.56, 1283.78, 1283.15, 1283.75],\n",
              "       [1283.75, 1283.94, 1283.35, 1283.63],\n",
              "       [1283.63, 1284.13, 1283.16, 1283.22],\n",
              "       [1283.19, 1285.13, 1282.84, 1284.83],\n",
              "       [1284.83, 1285.2 , 1283.01, 1283.1 ],\n",
              "       [1283.08, 1284.59, 1282.69, 1283.88],\n",
              "       [1283.95, 1283.98, 1282.84, 1283.2 ],\n",
              "       [1283.2 , 1283.27, 1282.2 , 1282.57],\n",
              "       [1282.57, 1282.78, 1281.68, 1282.05],\n",
              "       [1282.05, 1282.48, 1281.07, 1281.59],\n",
              "       [1281.61, 1282.14, 1281.29, 1281.52],\n",
              "       [1281.52, 1281.54, 1280.84, 1280.85],\n",
              "       [1280.85, 1281.71, 1280.84, 1281.53],\n",
              "       [1281.53, 1281.76, 1281.24, 1281.36],\n",
              "       [1281.39, 1282.81, 1281.14, 1282.1 ],\n",
              "       [1282.1 , 1283.76, 1282.01, 1282.78],\n",
              "       [1282.78, 1284.4 , 1282.78, 1283.18],\n",
              "       [1283.19, 1284.39, 1282.77, 1283.48],\n",
              "       [1283.44, 1283.44, 1280.71, 1281.95],\n",
              "       [1281.95, 1283.27, 1281.77, 1283.08],\n",
              "       [1283.08, 1284.08, 1283.06, 1283.96],\n",
              "       [1283.96, 1284.46, 1283.28, 1284.46],\n",
              "       [1284.46, 1284.6 , 1283.35, 1283.78],\n",
              "       [1283.78, 1284.47, 1283.57, 1284.34],\n",
              "       [1284.36, 1284.97, 1284.07, 1284.52],\n",
              "       [1284.53, 1285.01, 1284.02, 1284.13],\n",
              "       [1284.12, 1284.51, 1284.01, 1284.49],\n",
              "       [1284.49, 1284.71, 1284.15, 1284.33],\n",
              "       [1284.33, 1284.47, 1283.93, 1284.36],\n",
              "       [1284.36, 1284.57, 1284.17, 1284.53],\n",
              "       [1284.55, 1284.81, 1284.25, 1284.78],\n",
              "       [1284.78, 1284.97, 1284.5 , 1284.54],\n",
              "       [1284.54, 1284.82, 1284.51, 1284.8 ],\n",
              "       [1285.21, 1285.57, 1285.21, 1285.3 ],\n",
              "       [1285.35, 1285.35, 1284.71, 1284.76],\n",
              "       [1284.75, 1284.96, 1284.31, 1284.45],\n",
              "       [1284.42, 1284.75, 1284.16, 1284.66],\n",
              "       [1284.66, 1284.85, 1284.05, 1284.35],\n",
              "       [1284.35, 1284.64, 1283.72, 1284.62],\n",
              "       [1284.63, 1287.21, 1284.61, 1286.71],\n",
              "       [1286.71, 1287.33, 1286.41, 1287.22],\n",
              "       [1287.22, 1287.23, 1286.59, 1286.64],\n",
              "       [1286.64, 1286.69, 1286.35, 1286.66],\n",
              "       [1286.62, 1286.82, 1286.56, 1286.73],\n",
              "       [1286.73, 1287.11, 1286.54, 1286.9 ],\n",
              "       [1286.9 , 1287.29, 1286.83, 1287.18],\n",
              "       [1287.18, 1287.18, 1286.65, 1286.72],\n",
              "       [1286.69, 1287.13, 1286.65, 1286.93]])"
            ]
          },
          "execution_count": 120,
          "metadata": {},
          "output_type": "execute_result"
        }
      ]
    },
    {
      "cell_type": "code",
      "metadata": {
        "colab": {
          "base_uri": "https://localhost:8080/"
        },
        "id": "NIYMsdeNGoxI",
        "outputId": "fcc79a09-b471-4881-bcc2-209e47e3452d"
      },
      "source": [
        "Test_Pred_MinMax = test_pred * (Train_Max - Train_Min) + Train_Min\n",
        "#Test_Pred_MinMax2 = test_pred2 * (Train_Max - Train_Min) + Train_Min\n",
        "print('-------------------------------------------------------------')\n",
        "#print(type(Test_Pred_MinMax2))\n",
        "print(type(Test_Pred_MinMax))\n",
        "#print(Test_Pred_MinMax2.shape)\n",
        "print(Test_Pred_MinMax.shape)"
      ],
      "execution_count": null,
      "outputs": [
        {
          "name": "stdout",
          "output_type": "stream",
          "text": [
            "-------------------------------------------------------------\n",
            "<class 'numpy.ndarray'>\n",
            "(90, 4)\n"
          ]
        }
      ]
    },
    {
      "cell_type": "code",
      "metadata": {
        "colab": {
          "base_uri": "https://localhost:8080/"
        },
        "id": "ZBNCFjwZRYxV",
        "outputId": "6fff4098-d306-49ca-aec6-4dd0ec774804"
      },
      "source": [
        "print('-------------------------------------------------------------')\n",
        "print(type(Test_MinMax))\n",
        "print(Test_MinMax.shape)"
      ],
      "execution_count": null,
      "outputs": [
        {
          "name": "stdout",
          "output_type": "stream",
          "text": [
            "-------------------------------------------------------------\n",
            "<class 'pandas.core.frame.DataFrame'>\n",
            "(19994, 4)\n"
          ]
        }
      ]
    },
    {
      "cell_type": "code",
      "metadata": {
        "id": "fdP8rp46RykD"
      },
      "source": [
        "Test_MinMax = np.array(Test_MinMax)"
      ],
      "execution_count": null,
      "outputs": []
    },
    {
      "cell_type": "code",
      "metadata": {
        "id": "_Aa2zWgfSu-3"
      },
      "source": [
        "Test_MinMax = Test_MinMax[:90]"
      ],
      "execution_count": null,
      "outputs": []
    },
    {
      "cell_type": "code",
      "metadata": {
        "colab": {
          "base_uri": "https://localhost:8080/"
        },
        "id": "ngHmoWbwsnoE",
        "outputId": "4c508051-2536-4007-abfa-a5c948490049"
      },
      "source": [
        "print(df.shape)\n",
        "print(test_pred.shape)\n",
        "print(ytest.shape)\n",
        "print(Test_Pred_MinMax.shape)\n",
        "print(Test_MinMax.shape)"
      ],
      "execution_count": null,
      "outputs": [
        {
          "name": "stdout",
          "output_type": "stream",
          "text": [
            "(99968, 4)\n",
            "(90, 4)\n",
            "(90, 4)\n",
            "(90, 4)\n",
            "(90, 4)\n"
          ]
        }
      ]
    },
    {
      "cell_type": "code",
      "metadata": {
        "colab": {
          "base_uri": "https://localhost:8080/",
          "height": 535
        },
        "id": "voKdSkg6VnzR",
        "outputId": "e1a9dbea-bc80-42ce-ef05-3c74be1b34d8"
      },
      "source": [
        "plt.figure(figsize=(16,8))\n",
        "\n",
        "plt.plot(ytest_rescale[(len(ytest_rescale)-90):,0])\n",
        "plt.plot(Test_Pred_MinMax[(len(Test_Pred_MinMax)-90):,0],'red')\n",
        "#plt.plot(Test_Pred_MinMax2[(len(Test_Pred_MinMax2)-90):,0],'green')\n",
        "plt.title(\"Open price prediction\")\n",
        "plt.show()\n"
      ],
      "execution_count": null,
      "outputs": [
        {
          "data": {
            "image/png": "[encoded data removed]",
            "text/plain": [
              "<Figure size 1152x576 with 1 Axes>"
            ]
          },
          "metadata": {},
          "output_type": "display_data"
        }
      ]
    },
    {
      "cell_type": "code",
      "metadata": {
        "colab": {
          "base_uri": "https://localhost:8080/",
          "height": 535
        },
        "id": "uZgAV9uytY56",
        "outputId": "e936d703-aa74-4ff2-9143-28dfcbace35c"
      },
      "source": [
        "plt.figure(figsize=(16,8))\n",
        "\n",
        "plt.plot(ytest_rescale[(len(ytest_rescale)-90):,1])\n",
        "plt.plot(Test_Pred_MinMax[(len(Test_Pred_MinMax)-90):,1],'red')\n",
        "#plt.plot(Test_Pred_MinMax2[(len(Test_Pred_MinMax2)-90):,1],'green')\n",
        "plt.title(\"High price prediction\")\n",
        "plt.show()"
      ],
      "execution_count": null,
      "outputs": [
        {
          "data": {
            "image/png": "[encoded data removed]",
            "text/plain": [
              "<Figure size 1152x576 with 1 Axes>"
            ]
          },
          "metadata": {},
          "output_type": "display_data"
        }
      ]
    },
    {
      "cell_type": "code",
      "metadata": {
        "colab": {
          "base_uri": "https://localhost:8080/",
          "height": 535
        },
        "id": "4FbD1UCZA8nG",
        "outputId": "ef6b1d9d-bb04-4e6f-f97f-e96f71b14df8"
      },
      "source": [
        "plt.figure(figsize=(16,8))\n",
        "\n",
        "plt.plot(ytest_rescale[(len(ytest_rescale)-90):,2])\n",
        "plt.plot(Test_Pred_MinMax[(len(Test_Pred_MinMax)-90):,2],'red')\n",
        "#plt.plot(Test_Pred_MinMax2[(len(Test_Pred_MinMax2)-90):,2],'green')\n",
        "plt.title(\"Low price prediction\")\n",
        "plt.show()"
      ],
      "execution_count": null,
      "outputs": [
        {
          "data": {
            "image/png": "[encoded data removed]",
            "text/plain": [
              "<Figure size 1152x576 with 1 Axes>"
            ]
          },
          "metadata": {},
          "output_type": "display_data"
        }
      ]
    },
    {
      "cell_type": "code",
      "metadata": {
        "colab": {
          "base_uri": "https://localhost:8080/",
          "height": 535
        },
        "id": "65EkMKPPvvz0",
        "outputId": "ba844d45-78c5-4987-e2e0-0cf4e291e9ef"
      },
      "source": [
        "plt.figure(figsize=(16,8))\n",
        "\n",
        "plt.plot(ytest_rescale[(len(ytest_rescale)-90):,3])\n",
        "plt.plot(Test_Pred_MinMax[(len(Test_Pred_MinMax)-90):,3],'red')\n",
        "#plt.plot(Test_Pred_MinMax2[(len(Test_Pred_MinMax2)-90):,1],'green')\n",
        "plt.title(\"Close price prediction\")\n",
        "plt.show()"
      ],
      "execution_count": null,
      "outputs": [
        {
          "data": {
            "image/png": "[encoded data removed]",
            "text/plain": [
              "<Figure size 1152x576 with 1 Axes>"
            ]
          },
          "metadata": {},
          "output_type": "display_data"
        }
      ]
    }
  ]
}